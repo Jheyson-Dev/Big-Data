{
  "nbformat": 4,
  "nbformat_minor": 0,
  "metadata": {
    "colab": {
      "provenance": [],
      "toc_visible": true,
      "authorship_tag": "ABX9TyOdmINiTQlcEET1EAgRyYnJ",
      "include_colab_link": true
    },
    "kernelspec": {
      "name": "python3",
      "display_name": "Python 3"
    },
    "language_info": {
      "name": "python"
    }
  },
  "cells": [
    {
      "cell_type": "markdown",
      "metadata": {
        "id": "view-in-github",
        "colab_type": "text"
      },
      "source": [
        "<a href=\"https://colab.research.google.com/github/Jheyson-Dev/Big-Data/blob/main/TrabajoSesion3.ipynb\" target=\"_parent\"><img src=\"https://colab.research.google.com/assets/colab-badge.svg\" alt=\"Open In Colab\"/></a>"
      ]
    },
    {
      "cell_type": "markdown",
      "source": [
        "**Creacion de grafico carrera para la produccion de plata entre Perú y Mexico**"
      ],
      "metadata": {
        "id": "FBWeJIGIjMjr"
      }
    },
    {
      "cell_type": "code",
      "source": [
        "# Importacion de la libreria pandas\n",
        "import pandas as pd\n",
        "\n",
        "# Url de los dartos csv\n",
        "url = \"https://docs.google.com/spreadsheets/d/e/2PACX-1vQea6PHNNd_obgID8K9cADoYZbbBooJFuVjktYzD5TkyznZPgl8DqUEr3zarkvotA/pub?gid=1546344801&single=true&output=csv\"\n",
        "\n",
        "# Leer los datos de la url\n",
        "datos = pd.read_csv(url,index_col=\"Fecha\")\n",
        "\n",
        "# Imprimir los datos de la url\n",
        "print(datos)"
      ],
      "metadata": {
        "colab": {
          "base_uri": "https://localhost:8080/"
        },
        "id": "fbM7QOYYjUb7",
        "outputId": "e62b905c-5e68-4a67-b06b-2cb59c0d6419"
      },
      "execution_count": 1,
      "outputs": [
        {
          "output_type": "stream",
          "name": "stdout",
          "text": [
            "                Peru    Mexico\n",
            "Fecha                         \n",
            "1/1/2010   299724.49  219285.0\n",
            "2/1/2010   274512.23  251068.0\n",
            "3/1/2010   296877.20  253705.0\n",
            "4/1/2010   316334.88  292075.0\n",
            "5/1/2010   303502.54  281683.0\n",
            "...              ...       ...\n",
            "8/1/2022   270285.83  355582.0\n",
            "9/1/2022   254721.60  348976.0\n",
            "10/1/2022  263906.42  341954.0\n",
            "11/1/2022  244462.16  334327.0\n",
            "12/1/2022  278608.26  329245.0\n",
            "\n",
            "[156 rows x 2 columns]\n"
          ]
        }
      ]
    },
    {
      "cell_type": "markdown",
      "source": [
        "**Instalando bar-chart-race**"
      ],
      "metadata": {
        "id": "Hr1xs_lcq2hB"
      }
    },
    {
      "cell_type": "code",
      "source": [
        "!pip install bar-chart-race"
      ],
      "metadata": {
        "colab": {
          "base_uri": "https://localhost:8080/"
        },
        "id": "h3FhGy0gpitK",
        "outputId": "3ae13299-6b9f-480c-9560-bcf0b9def4fd"
      },
      "execution_count": 2,
      "outputs": [
        {
          "output_type": "stream",
          "name": "stdout",
          "text": [
            "Collecting bar-chart-race\n",
            "  Downloading bar_chart_race-0.1.0-py3-none-any.whl (156 kB)\n",
            "\u001b[2K     \u001b[90m━━━━━━━━━━━━━━━━━━━━━━━━━━━━━━━━━━━━━━━━\u001b[0m \u001b[32m156.8/156.8 kB\u001b[0m \u001b[31m1.5 MB/s\u001b[0m eta \u001b[36m0:00:00\u001b[0m\n",
            "\u001b[?25hRequirement already satisfied: pandas>=0.24 in /usr/local/lib/python3.10/dist-packages (from bar-chart-race) (2.0.3)\n",
            "Requirement already satisfied: matplotlib>=3.1 in /usr/local/lib/python3.10/dist-packages (from bar-chart-race) (3.7.1)\n",
            "Requirement already satisfied: contourpy>=1.0.1 in /usr/local/lib/python3.10/dist-packages (from matplotlib>=3.1->bar-chart-race) (1.2.1)\n",
            "Requirement already satisfied: cycler>=0.10 in /usr/local/lib/python3.10/dist-packages (from matplotlib>=3.1->bar-chart-race) (0.12.1)\n",
            "Requirement already satisfied: fonttools>=4.22.0 in /usr/local/lib/python3.10/dist-packages (from matplotlib>=3.1->bar-chart-race) (4.51.0)\n",
            "Requirement already satisfied: kiwisolver>=1.0.1 in /usr/local/lib/python3.10/dist-packages (from matplotlib>=3.1->bar-chart-race) (1.4.5)\n",
            "Requirement already satisfied: numpy>=1.20 in /usr/local/lib/python3.10/dist-packages (from matplotlib>=3.1->bar-chart-race) (1.25.2)\n",
            "Requirement already satisfied: packaging>=20.0 in /usr/local/lib/python3.10/dist-packages (from matplotlib>=3.1->bar-chart-race) (24.0)\n",
            "Requirement already satisfied: pillow>=6.2.0 in /usr/local/lib/python3.10/dist-packages (from matplotlib>=3.1->bar-chart-race) (9.4.0)\n",
            "Requirement already satisfied: pyparsing>=2.3.1 in /usr/local/lib/python3.10/dist-packages (from matplotlib>=3.1->bar-chart-race) (3.1.2)\n",
            "Requirement already satisfied: python-dateutil>=2.7 in /usr/local/lib/python3.10/dist-packages (from matplotlib>=3.1->bar-chart-race) (2.8.2)\n",
            "Requirement already satisfied: pytz>=2020.1 in /usr/local/lib/python3.10/dist-packages (from pandas>=0.24->bar-chart-race) (2023.4)\n",
            "Requirement already satisfied: tzdata>=2022.1 in /usr/local/lib/python3.10/dist-packages (from pandas>=0.24->bar-chart-race) (2024.1)\n",
            "Requirement already satisfied: six>=1.5 in /usr/local/lib/python3.10/dist-packages (from python-dateutil>=2.7->matplotlib>=3.1->bar-chart-race) (1.16.0)\n",
            "Installing collected packages: bar-chart-race\n",
            "Successfully installed bar-chart-race-0.1.0\n"
          ]
        }
      ]
    },
    {
      "cell_type": "markdown",
      "source": [
        "**Exportando Video gafico**"
      ],
      "metadata": {
        "id": "EXgxc5-2rDli"
      }
    },
    {
      "cell_type": "code",
      "source": [
        "import bar_chart_race as bcarrera\n",
        "bcarrera.bar_chart_race(df=datos,title=\"Cantidad Produccion de plata Peru y Mexico\",filename=\"Mi_video_graficos.mp4\")"
      ],
      "metadata": {
        "colab": {
          "base_uri": "https://localhost:8080/"
        },
        "id": "UxOk1bRppoRh",
        "outputId": "ce2738f4-5ebc-434c-8b0e-4f3f16919b11"
      },
      "execution_count": 3,
      "outputs": [
        {
          "output_type": "stream",
          "name": "stderr",
          "text": [
            "/usr/local/lib/python3.10/dist-packages/bar_chart_race/_make_chart.py:286: UserWarning: FixedFormatter should only be used together with FixedLocator\n",
            "  ax.set_yticklabels(self.df_values.columns)\n",
            "/usr/local/lib/python3.10/dist-packages/bar_chart_race/_make_chart.py:287: UserWarning: FixedFormatter should only be used together with FixedLocator\n",
            "  ax.set_xticklabels([max_val] * len(ax.get_xticks()))\n"
          ]
        }
      ]
    }
  ]
}