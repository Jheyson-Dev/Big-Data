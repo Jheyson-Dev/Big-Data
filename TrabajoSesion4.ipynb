{
  "nbformat": 4,
  "nbformat_minor": 0,
  "metadata": {
    "colab": {
      "provenance": []
    },
    "kernelspec": {
      "name": "python3",
      "display_name": "Python 3"
    },
    "language_info": {
      "name": "python"
    }
  },
  "cells": [
    {
      "cell_type": "markdown",
      "source": [
        "**Importar NumPy:**"
      ],
      "metadata": {
        "id": "qx8gRIM7aGXO"
      }
    },
    {
      "cell_type": "code",
      "execution_count": 1,
      "metadata": {
        "id": "K0NJXF43O3Wz"
      },
      "outputs": [],
      "source": [
        "import numpy as np"
      ]
    },
    {
      "cell_type": "markdown",
      "source": [
        "**1. Creación de Arrays:**"
      ],
      "metadata": {
        "id": "6gFMIKf2aLzm"
      }
    },
    {
      "cell_type": "code",
      "source": [
        "#Crea un array unidimensional (vector) con 5 elementos enteros de tu elección.\n",
        "array = np.array([2,3,4,5,6])\n",
        "print(array)"
      ],
      "metadata": {
        "colab": {
          "base_uri": "https://localhost:8080/"
        },
        "id": "iiLCENaxPu-t",
        "outputId": "5904d9a7-8170-4e24-d0b9-c16d2e8678f4"
      },
      "execution_count": 14,
      "outputs": [
        {
          "output_type": "stream",
          "name": "stdout",
          "text": [
            "[2 3 4 5 6]\n"
          ]
        }
      ]
    },
    {
      "cell_type": "code",
      "source": [
        "#Crea una matriz bidimensional (matriz) de tamaño 3x3 con valores enteros consecutivos.\n",
        "new_array = np.array([[4,5,6],[7,8,9],[10,11,12]])\n",
        "print(new_array)"
      ],
      "metadata": {
        "colab": {
          "base_uri": "https://localhost:8080/"
        },
        "id": "uPQJlMy_QB8J",
        "outputId": "41ddc928-1f83-4356-83c6-eb9f6008e8f6"
      },
      "execution_count": 6,
      "outputs": [
        {
          "output_type": "stream",
          "name": "stdout",
          "text": [
            "[[ 4  5  6]\n",
            " [ 7  8  9]\n",
            " [10 11 12]]\n"
          ]
        }
      ]
    },
    {
      "cell_type": "code",
      "source": [
        "#Utiliza la función np.zeros() para crear una matriz de tamaño 2x4 llena de ceros.\n",
        "array_zeros = np.zeros([2,4], int)\n",
        "print(array_zeros)"
      ],
      "metadata": {
        "colab": {
          "base_uri": "https://localhost:8080/"
        },
        "id": "Kqj44u5GRCLj",
        "outputId": "785c6fe4-ecb3-4ac6-bfff-22882e6235c6"
      },
      "execution_count": 9,
      "outputs": [
        {
          "output_type": "stream",
          "name": "stdout",
          "text": [
            "[[0 0 0 0]\n",
            " [0 0 0 0]]\n"
          ]
        }
      ]
    },
    {
      "cell_type": "code",
      "source": [
        "# Utiliza la función np.ones() para crear una matriz de tamaño 3x2 llena de unos.\n",
        "\n",
        "array_ones = np.ones([3,2], int)\n",
        "print(array_ones)"
      ],
      "metadata": {
        "colab": {
          "base_uri": "https://localhost:8080/"
        },
        "id": "5PhtprewRVQx",
        "outputId": "692b4bf7-0728-4fd3-88e4-020d3fb52d02"
      },
      "execution_count": 11,
      "outputs": [
        {
          "output_type": "stream",
          "name": "stdout",
          "text": [
            "[[1 1]\n",
            " [1 1]\n",
            " [1 1]]\n"
          ]
        }
      ]
    },
    {
      "cell_type": "code",
      "source": [
        "# Utiliza la función np.random.randint() para crear una matriz de tamaño 4x4 con números enteros aleatorios entre 0 y 10.\n",
        "\n",
        "array_random_0_10 = np.random.randint(0,10, size=(4,4))\n",
        "\n",
        "print(array_random_0_10)"
      ],
      "metadata": {
        "colab": {
          "base_uri": "https://localhost:8080/"
        },
        "id": "0kP68JzjRlh7",
        "outputId": "5c831974-a259-4a8e-841a-c69eb3ffe87b"
      },
      "execution_count": 13,
      "outputs": [
        {
          "output_type": "stream",
          "name": "stdout",
          "text": [
            "[[5 2 7 1]\n",
            " [2 4 4 5]\n",
            " [7 8 7 0]\n",
            " [0 9 3 9]]\n"
          ]
        }
      ]
    },
    {
      "cell_type": "markdown",
      "source": [
        "**2. Acceso a Elementos:**"
      ],
      "metadata": {
        "id": "0t2fbUJdaP_W"
      }
    },
    {
      "cell_type": "code",
      "source": [
        "# Accede al tercer elemento del vector creado en el paso 1.\n",
        "elemento_3 = array[2]\n",
        "\n",
        "print(elemento_3)"
      ],
      "metadata": {
        "colab": {
          "base_uri": "https://localhost:8080/"
        },
        "id": "gai-n8j1R4_o",
        "outputId": "806443c3-dd3b-43ab-f4d9-ef96e657b5fa"
      },
      "execution_count": 15,
      "outputs": [
        {
          "output_type": "stream",
          "name": "stdout",
          "text": [
            "4\n"
          ]
        }
      ]
    },
    {
      "cell_type": "code",
      "source": [
        "#Accede al elemento en la segunda fila y segunda columna de la matriz creada en el paso 2.\n",
        "elemento_2 = new_array[1][1]\n",
        "print(elemento_2)"
      ],
      "metadata": {
        "colab": {
          "base_uri": "https://localhost:8080/"
        },
        "id": "HDAJA_b2STPn",
        "outputId": "8f18694f-8052-471c-d56d-242d4e70a147"
      },
      "execution_count": 16,
      "outputs": [
        {
          "output_type": "stream",
          "name": "stdout",
          "text": [
            "8\n"
          ]
        }
      ]
    },
    {
      "cell_type": "markdown",
      "source": [
        "**3. Propiedades de los Arrays:**"
      ],
      "metadata": {
        "id": "E-KEIrEsaTVF"
      }
    },
    {
      "cell_type": "code",
      "source": [
        "# Utiliza el atributo ndim para verificar la cantidad de dimensiones de la matriz creada en el paso 2.\n",
        "\n",
        "print(new_array.ndim)"
      ],
      "metadata": {
        "colab": {
          "base_uri": "https://localhost:8080/"
        },
        "id": "ENNis8XWTWVV",
        "outputId": "cb58e546-89b6-4485-fb4f-71d27297cb31"
      },
      "execution_count": 19,
      "outputs": [
        {
          "output_type": "stream",
          "name": "stdout",
          "text": [
            "2\n"
          ]
        }
      ]
    },
    {
      "cell_type": "code",
      "source": [
        "# Utiliza el atributo shape para obtener la forma de la matriz creada en el paso 2.\n",
        "print(new_array.shape)"
      ],
      "metadata": {
        "colab": {
          "base_uri": "https://localhost:8080/"
        },
        "id": "u4vNvEASTxge",
        "outputId": "a0afa4ae-eeb5-4010-9910-15ab093de200"
      },
      "execution_count": 20,
      "outputs": [
        {
          "output_type": "stream",
          "name": "stdout",
          "text": [
            "(3, 3)\n"
          ]
        }
      ]
    },
    {
      "cell_type": "code",
      "source": [
        "# Utiliza el atributo size para obtener el tamaño total de la matriz creada en el paso 2.\n",
        "\n",
        "print(new_array.size)"
      ],
      "metadata": {
        "colab": {
          "base_uri": "https://localhost:8080/"
        },
        "id": "Lv8cSnywT8CG",
        "outputId": "d4243691-ba18-403f-8ff9-ce927c5258a9"
      },
      "execution_count": 21,
      "outputs": [
        {
          "output_type": "stream",
          "name": "stdout",
          "text": [
            "9\n"
          ]
        }
      ]
    },
    {
      "cell_type": "markdown",
      "source": [
        "**4. Operaciones Básicas:**"
      ],
      "metadata": {
        "id": "lQcD4-FyaeF4"
      }
    },
    {
      "cell_type": "code",
      "source": [
        "# Suma dos matrices de tamaño 2x2 con valores aleatorios entre 0 y 10.\n",
        "\n",
        "matriz_a = np.random.randint(0,10, size=(2,2))\n",
        "matriz_b = np.random.randint(0,10, size=(2,2))\n",
        "suma = matriz_a + matriz_b\n",
        "print(f\"Matriz A: \\n {matriz_a}\")\n",
        "print(f\"Matriz B: \\n {matriz_b}\")\n",
        "print(f\"Suma : \\n {suma}\")"
      ],
      "metadata": {
        "colab": {
          "base_uri": "https://localhost:8080/"
        },
        "id": "-X__dDYsUEw-",
        "outputId": "93e31ddc-55d1-45c7-a312-98d72ba39fca"
      },
      "execution_count": 27,
      "outputs": [
        {
          "output_type": "stream",
          "name": "stdout",
          "text": [
            "Matriz A: \n",
            " [[9 6]\n",
            " [0 1]]\n",
            "Matriz B: \n",
            " [[2 7]\n",
            " [4 8]]\n",
            "Suma : \n",
            " [[11 13]\n",
            " [ 4  9]]\n"
          ]
        }
      ]
    },
    {
      "cell_type": "code",
      "source": [
        "# Multiplica dos matrices de tamaño 3x2 y 2x3 respectivamente.\n",
        "\n",
        "matriz_a = np.random.randint(0, 10, size=(3, 2))\n",
        "matriz_b = np.random.randint(0, 10, size=(2, 3))\n",
        "\n",
        "producto = np.dot(matriz_3x2, matriz_2x3)\n",
        "\n",
        "print(f\"Matriz 3x2: \\n{matriz_a}\")\n",
        "print(f\"Matriz 2x3: \\n{matriz_b}\")\n",
        "print(f\"Producto: \\n{producto}\")\n"
      ],
      "metadata": {
        "colab": {
          "base_uri": "https://localhost:8080/"
        },
        "id": "XqPk4q4vUqam",
        "outputId": "96c9f200-b1f8-40f4-81da-2a0305c76050"
      },
      "execution_count": 33,
      "outputs": [
        {
          "output_type": "stream",
          "name": "stdout",
          "text": [
            "Matriz 3x2: \n",
            "[[6 0]\n",
            " [2 2]\n",
            " [2 2]]\n",
            "Matriz 2x3: \n",
            "[[7 2 0]\n",
            " [4 5 7]]\n",
            "Producto: \n",
            "[[55 77 80]\n",
            " [36 72 72]\n",
            " [56 68 72]]\n"
          ]
        }
      ]
    },
    {
      "cell_type": "code",
      "source": [
        "# Divide una matriz de tamaño 2x2 por otra matriz de tamaño 2x2,\n",
        "matriz_a = np.random.randint(1, 10, size=(2, 2))\n",
        "matriz_b = np.random.randint(1, 10, size=(2, 2))\n",
        "\n",
        "division = matriz_a / matriz_b\n",
        "\n",
        "print(f\"Matriz A: \\n {matriz_a}\")\n",
        "print(f\"Matriz B: \\n {matriz_b}\")\n",
        "print(f\"Division : \\n {division}\")"
      ],
      "metadata": {
        "colab": {
          "base_uri": "https://localhost:8080/"
        },
        "id": "yGAlpvWBVJ9b",
        "outputId": "e87097c6-433e-415d-a23e-472a71ab8e7f"
      },
      "execution_count": 70,
      "outputs": [
        {
          "output_type": "stream",
          "name": "stdout",
          "text": [
            "Matriz A: \n",
            " [[1 8]\n",
            " [9 9]]\n",
            "Matriz B: \n",
            " [[8 7]\n",
            " [4 6]]\n",
            "Division : \n",
            " [[0.125      1.14285714]\n",
            " [2.25       1.5       ]]\n"
          ]
        }
      ]
    },
    {
      "cell_type": "markdown",
      "source": [
        "**5. Manipulación de Arrays:**"
      ],
      "metadata": {
        "id": "lTkg81u2ajHH"
      }
    },
    {
      "cell_type": "code",
      "source": [
        "# Utiliza la función reshape() para convertir el vector creado en el paso 2 en una matriz de tamaño 2x3.\n",
        "\n",
        "reshape = new_array.reshape((9,1))\n",
        "print(reshape)"
      ],
      "metadata": {
        "colab": {
          "base_uri": "https://localhost:8080/"
        },
        "id": "UsN5V0r2Vqtz",
        "outputId": "6b66af33-7581-45ca-a505-c74e59b31540"
      },
      "execution_count": 52,
      "outputs": [
        {
          "output_type": "stream",
          "name": "stdout",
          "text": [
            "[[ 4]\n",
            " [ 5]\n",
            " [ 6]\n",
            " [ 7]\n",
            " [ 8]\n",
            " [ 9]\n",
            " [10]\n",
            " [11]\n",
            " [12]]\n"
          ]
        }
      ]
    },
    {
      "cell_type": "code",
      "source": [
        "# Utiliza la función flatten() para convertir la matriz creada en el paso 2 en un vector unidimensional.\n",
        "\n",
        "flatten= new_array.flatten()\n",
        "print(flatten)\n"
      ],
      "metadata": {
        "colab": {
          "base_uri": "https://localhost:8080/"
        },
        "id": "B1Ec-SZaWYJT",
        "outputId": "1124f98e-b245-4b1b-d89f-b4d4733db02e"
      },
      "execution_count": 47,
      "outputs": [
        {
          "output_type": "stream",
          "name": "stdout",
          "text": [
            "[ 4  5  6  7  8  9 10 11 12]\n"
          ]
        }
      ]
    },
    {
      "cell_type": "markdown",
      "source": [
        "**6. Operaciones Estadísticas:**"
      ],
      "metadata": {
        "id": "0_FHsP-ca0Ht"
      }
    },
    {
      "cell_type": "code",
      "source": [
        "# Calcula la suma de todos los elementos de la matriz creada en el paso 2.\n",
        "\n",
        "sum_of_elements = np.sum(new_array)\n",
        "print(f\"Arreglo: \\n {new_array}\")\n",
        "print(f\"La suma de todos los elementos es: {sum_of_elements}\")\n"
      ],
      "metadata": {
        "colab": {
          "base_uri": "https://localhost:8080/"
        },
        "id": "dgJTiUfAWwYq",
        "outputId": "fe99d3e2-c3e8-4682-ca69-241d91f7663d"
      },
      "execution_count": 54,
      "outputs": [
        {
          "output_type": "stream",
          "name": "stdout",
          "text": [
            "Arreglo: \n",
            " [[ 4  5  6]\n",
            " [ 7  8  9]\n",
            " [10 11 12]]\n",
            "La suma de todos los elementos es: 72\n"
          ]
        }
      ]
    },
    {
      "cell_type": "code",
      "source": [
        "# Calcula la media de cada fila de la matriz creada en el paso 2.\n",
        "\n",
        "media = np.mean(new_array, axis=1,)\n",
        "print(f\"Arreglo: \\n {new_array}\")\n",
        "print(f\"La media de cada fila es: {media}\")\n"
      ],
      "metadata": {
        "colab": {
          "base_uri": "https://localhost:8080/"
        },
        "id": "exycts0_YbPa",
        "outputId": "e119883e-aecc-43fc-d7ae-093cb206a88a"
      },
      "execution_count": 60,
      "outputs": [
        {
          "output_type": "stream",
          "name": "stdout",
          "text": [
            "Arreglo: \n",
            " [[ 4  5  6]\n",
            " [ 7  8  9]\n",
            " [10 11 12]]\n",
            "La media de cada fila es: [ 5.  8. 11.]\n"
          ]
        }
      ]
    },
    {
      "cell_type": "markdown",
      "source": [
        "**7. Indexación y Rebanado:**"
      ],
      "metadata": {
        "id": "r56UNE2ba2ct"
      }
    },
    {
      "cell_type": "code",
      "source": [
        "# Imprime la primera fila de la matriz creada en el paso 2.\n",
        "\n",
        "print(new_array[0])\n"
      ],
      "metadata": {
        "colab": {
          "base_uri": "https://localhost:8080/"
        },
        "id": "ofrzErVhY6bI",
        "outputId": "7e25298e-2a0a-44f0-b5f2-a7d98be1b840"
      },
      "execution_count": 61,
      "outputs": [
        {
          "output_type": "stream",
          "name": "stdout",
          "text": [
            "[4 5 6]\n"
          ]
        }
      ]
    },
    {
      "cell_type": "code",
      "source": [
        "# Imprime las primeras dos columnas de la matriz creada en el paso 2.\n",
        "\n",
        "print(new_array[:, :2])"
      ],
      "metadata": {
        "colab": {
          "base_uri": "https://localhost:8080/"
        },
        "id": "aonvEZw8Y_uA",
        "outputId": "5b7dac65-b4f8-48f2-c083-e7fa832f59a9"
      },
      "execution_count": 64,
      "outputs": [
        {
          "output_type": "stream",
          "name": "stdout",
          "text": [
            "[[ 4  5]\n",
            " [ 7  8]\n",
            " [10 11]]\n"
          ]
        }
      ]
    },
    {
      "cell_type": "markdown",
      "source": [
        "**8. Ejercicio Adicional:**"
      ],
      "metadata": {
        "id": "hSJ5o5kWa6mO"
      }
    },
    {
      "cell_type": "code",
      "source": [
        "# Define una matriz de tamaño 4x4 con valores aleatorios.\n",
        "\n",
        "matriz =np.random.rand(4,4)\n",
        "print(matriz)"
      ],
      "metadata": {
        "colab": {
          "base_uri": "https://localhost:8080/"
        },
        "id": "5crYVwRlZMHd",
        "outputId": "e67a5d14-5cf6-49f3-9a01-fcf52dc7e953"
      },
      "execution_count": 65,
      "outputs": [
        {
          "output_type": "stream",
          "name": "stdout",
          "text": [
            "[[0.92734612 0.55629209 0.20975675 0.77393385]\n",
            " [0.29132039 0.85983963 0.77285769 0.09633629]\n",
            " [0.63276733 0.39484963 0.55280209 0.60761445]\n",
            " [0.94048411 0.39286936 0.24667594 0.23928693]]\n"
          ]
        }
      ]
    },
    {
      "cell_type": "code",
      "source": [
        "# Encuentra el valor máximo y su posición en filas y columnas.\n",
        "max_value = np.max(matriz)\n",
        "max_index = np.argmax(matriz)\n",
        "max_row = max_index // 4\n",
        "max_col = max_index % 4\n",
        "\n",
        "# Encuentra el valor mínimo y su posición en filas y columnas.\n",
        "min_value = np.min(matriz)\n",
        "min_index = np.argmin(matriz)\n",
        "min_row = min_index // 4\n",
        "min_col = min_index % 4\n",
        "\n",
        "# Imprime los resultados.\n",
        "print(\"Matriz:\")\n",
        "print(matriz)\n",
        "print(\"\\nValor máximo:\", max_value)\n",
        "print(\"Fila:\", max_row, \"Columna:\", max_col)\n",
        "print(\"\\nValor mínimo:\", min_value)\n",
        "print(\"Fila:\", min_row, \"Columna:\", min_col)\n"
      ],
      "metadata": {
        "colab": {
          "base_uri": "https://localhost:8080/"
        },
        "id": "rFXlJGooZeR9",
        "outputId": "d6fbce1d-5a1d-47c3-d6a4-22763e1eb779"
      },
      "execution_count": 71,
      "outputs": [
        {
          "output_type": "stream",
          "name": "stdout",
          "text": [
            "Matriz:\n",
            "[[0.78831868 0.51593728 0.26846669 0.21151564]\n",
            " [0.00677973 0.46367112 0.38248523 0.56034837]\n",
            " [0.69899324 0.10836226 0.61158789 0.18010783]\n",
            " [0.82796825 0.01599738 0.39933679 0.84568685]]\n",
            "\n",
            "Valor máximo: 0.8456868516968259\n",
            "Fila: 3 Columna: 3\n",
            "\n",
            "Valor mínimo: 0.006779729296704118\n",
            "Fila: 1 Columna: 0\n"
          ]
        }
      ]
    }
  ]
}