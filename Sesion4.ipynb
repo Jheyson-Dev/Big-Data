{
  "nbformat": 4,
  "nbformat_minor": 0,
  "metadata": {
    "colab": {
      "provenance": [],
      "authorship_tag": "ABX9TyPy64dkMM8TH2+TuRsao98H",
      "include_colab_link": true
    },
    "kernelspec": {
      "name": "python3",
      "display_name": "Python 3"
    },
    "language_info": {
      "name": "python"
    }
  },
  "cells": [
    {
      "cell_type": "markdown",
      "metadata": {
        "id": "view-in-github",
        "colab_type": "text"
      },
      "source": [
        "<a href=\"https://colab.research.google.com/github/Jheyson-Dev/Big-Data/blob/main/Sesion4.ipynb\" target=\"_parent\"><img src=\"https://colab.research.google.com/assets/colab-badge.svg\" alt=\"Open In Colab\"/></a>"
      ]
    },
    {
      "cell_type": "code",
      "execution_count": null,
      "metadata": {
        "id": "lSl_O3rR0Q4B"
      },
      "outputs": [],
      "source": [
        "#Importamos las librearia numpy de Python\n",
        "import numpy as np"
      ]
    },
    {
      "cell_type": "code",
      "source": [
        "#Creamos un arreglo de una dimension\n",
        "arreglo = np.array([1,2,3,9,8,7])\n",
        "print(arreglo)"
      ],
      "metadata": {
        "colab": {
          "base_uri": "https://localhost:8080/"
        },
        "id": "fJfSDxMa0fqf",
        "outputId": "4f52208f-d0f2-4833-c2a8-3f4fe0c722ca"
      },
      "execution_count": 48,
      "outputs": [
        {
          "output_type": "stream",
          "name": "stdout",
          "text": [
            "[1 2 3 9 8 7]\n"
          ]
        }
      ]
    },
    {
      "cell_type": "code",
      "source": [
        "#hacemos referencia al nunero par \"2\" que esta en el indice 1\n",
        "numero_par = arreglo[1]\n",
        "print(numero_par)"
      ],
      "metadata": {
        "colab": {
          "base_uri": "https://localhost:8080/"
        },
        "id": "yXsly4cU0tgp",
        "outputId": "0328392d-7322-48ac-deb6-536c66f2d458"
      },
      "execution_count": 49,
      "outputs": [
        {
          "output_type": "stream",
          "name": "stdout",
          "text": [
            "2\n"
          ]
        }
      ]
    },
    {
      "cell_type": "code",
      "source": [
        "tablero =np.array([[1,2,3],[4,5,6],[7,8,9],[10,11,12]])\n",
        "print(tablero)"
      ],
      "metadata": {
        "colab": {
          "base_uri": "https://localhost:8080/"
        },
        "id": "TaTGNILI1WYp",
        "outputId": "46d3f85b-3566-4323-c67f-301144bbee6f"
      },
      "execution_count": null,
      "outputs": [
        {
          "output_type": "stream",
          "name": "stdout",
          "text": [
            "[[ 1  2  3]\n",
            " [ 4  5  6]\n",
            " [ 7  8  9]\n",
            " [10 11 12]]\n"
          ]
        }
      ]
    },
    {
      "cell_type": "code",
      "source": [
        "#Ejemplos de refecncia a elementos del arreglo bidimensional\n",
        "n1 = tablero[0][0] # Referenia al elemento de la fila 0 y el elemento 0\n",
        "print(n1)\n",
        "n2 = tablero[3][2] # Referenia al elemento de la fila 3 y el elemento 2\n",
        "print(n2)\n",
        "n3 = tablero[2][2] # Referenia al elemento de la fila 2 y el elemento 2\n",
        "print(n3)"
      ],
      "metadata": {
        "id": "DJunWzRg2gry",
        "colab": {
          "base_uri": "https://localhost:8080/"
        },
        "outputId": "76741587-304a-46bf-8197-3aefe83e7d2b"
      },
      "execution_count": null,
      "outputs": [
        {
          "output_type": "stream",
          "name": "stdout",
          "text": [
            "1\n",
            "12\n",
            "9\n"
          ]
        }
      ]
    },
    {
      "cell_type": "markdown",
      "source": [
        "**Propiedades principales de los arreglos**"
      ],
      "metadata": {
        "id": "FihPCYah4GbJ"
      }
    },
    {
      "cell_type": "code",
      "source": [
        "# Número de dimensiones\n",
        "\n",
        "# Usamos la propiedad ndim para obtener la dimension d elos arreglos\n",
        "\n",
        "print(arreglo.ndim)\n",
        "print(tablero.ndim)"
      ],
      "metadata": {
        "colab": {
          "base_uri": "https://localhost:8080/"
        },
        "id": "nWTDeure4JoI",
        "outputId": "63006dcb-3115-4c17-b35f-e7d5363e5a12"
      },
      "execution_count": null,
      "outputs": [
        {
          "output_type": "stream",
          "name": "stdout",
          "text": [
            "1\n",
            "2\n"
          ]
        }
      ]
    },
    {
      "cell_type": "code",
      "source": [
        "# Propiedad Shape\n",
        "# Nos devuelve el número de filas y columnas de un arreglo\n",
        "print(arreglo.shape)\n",
        "print(tablero.shape)"
      ],
      "metadata": {
        "colab": {
          "base_uri": "https://localhost:8080/"
        },
        "id": "YonfpU7d5DgZ",
        "outputId": "04069ba3-f7aa-427b-e29d-12f573d499d2"
      },
      "execution_count": null,
      "outputs": [
        {
          "output_type": "stream",
          "name": "stdout",
          "text": [
            "(3,)\n",
            "(4, 3)\n"
          ]
        }
      ]
    },
    {
      "cell_type": "code",
      "source": [
        "# Propiedad size\n",
        "# Nos devuelve el número total de elementos que tiene un arreglo sin importar las dimensiones\n",
        "print(arreglo.size)\n",
        "print(tablero.size)"
      ],
      "metadata": {
        "colab": {
          "base_uri": "https://localhost:8080/"
        },
        "id": "61AZQarb5i0h",
        "outputId": "6e1b490a-2180-44ba-b198-bb4e8f5b72cb"
      },
      "execution_count": null,
      "outputs": [
        {
          "output_type": "stream",
          "name": "stdout",
          "text": [
            "3\n",
            "12\n"
          ]
        }
      ]
    },
    {
      "cell_type": "markdown",
      "source": [],
      "metadata": {
        "id": "0Iiff7ye6ffY"
      }
    },
    {
      "cell_type": "code",
      "source": [
        "# Otras funciones útiles\n",
        "# Creación de un tablero con 8 filas y 8 columnas con valores \"0\"\n",
        "\n",
        "tabler_ceros = np.zeros([8,8], int)\n",
        "print(tabler_ceros)\n",
        "\n",
        "# Creación de un tablero con 8 filas y 8 columnas con valores \"1\"\n",
        "tabler_unos = np.ones([8,8], int)\n",
        "print(tabler_unos)"
      ],
      "metadata": {
        "colab": {
          "base_uri": "https://localhost:8080/"
        },
        "id": "f3PVeK8B6gin",
        "outputId": "723a8e3d-8bf6-40f5-cd9a-dfe696e80928"
      },
      "execution_count": null,
      "outputs": [
        {
          "output_type": "stream",
          "name": "stdout",
          "text": [
            "[[0 0 0 0 0 0 0 0]\n",
            " [0 0 0 0 0 0 0 0]\n",
            " [0 0 0 0 0 0 0 0]\n",
            " [0 0 0 0 0 0 0 0]\n",
            " [0 0 0 0 0 0 0 0]\n",
            " [0 0 0 0 0 0 0 0]\n",
            " [0 0 0 0 0 0 0 0]\n",
            " [0 0 0 0 0 0 0 0]]\n",
            "[[1 1 1 1 1 1 1 1]\n",
            " [1 1 1 1 1 1 1 1]\n",
            " [1 1 1 1 1 1 1 1]\n",
            " [1 1 1 1 1 1 1 1]\n",
            " [1 1 1 1 1 1 1 1]\n",
            " [1 1 1 1 1 1 1 1]\n",
            " [1 1 1 1 1 1 1 1]\n",
            " [1 1 1 1 1 1 1 1]]\n"
          ]
        }
      ]
    },
    {
      "cell_type": "code",
      "source": [
        "# Creacion de un tablero inicializado con un valor \"x\", para el ejemplo 10\n",
        "\n",
        "tabler_x = np.full([8,8],10,int)\n",
        "print(tabler_x)"
      ],
      "metadata": {
        "colab": {
          "base_uri": "https://localhost:8080/"
        },
        "id": "N7zELF_b7bev",
        "outputId": "ebbbe2ca-b264-47cc-d130-ed6acd7c0c81"
      },
      "execution_count": null,
      "outputs": [
        {
          "output_type": "stream",
          "name": "stdout",
          "text": [
            "[[10 10 10 10 10 10 10 10]\n",
            " [10 10 10 10 10 10 10 10]\n",
            " [10 10 10 10 10 10 10 10]\n",
            " [10 10 10 10 10 10 10 10]\n",
            " [10 10 10 10 10 10 10 10]\n",
            " [10 10 10 10 10 10 10 10]\n",
            " [10 10 10 10 10 10 10 10]\n",
            " [10 10 10 10 10 10 10 10]]\n"
          ]
        }
      ]
    },
    {
      "cell_type": "code",
      "source": [
        "# Creacion d eun tablero inicializado con valores aleatorios\n",
        "\n",
        "tablr_random = np.random.rand(3,3)\n",
        "print(tablr_random)"
      ],
      "metadata": {
        "colab": {
          "base_uri": "https://localhost:8080/"
        },
        "id": "MxLs64XD8Glo",
        "outputId": "68923fad-22ee-4755-c3e1-fac1305c1c7b"
      },
      "execution_count": null,
      "outputs": [
        {
          "output_type": "stream",
          "name": "stdout",
          "text": [
            "[[0.33615661 0.31034273 0.55162224]\n",
            " [0.52651127 0.83537896 0.61706539]\n",
            " [0.71657708 0.54470105 0.9374296 ]]\n"
          ]
        }
      ]
    },
    {
      "cell_type": "code",
      "source": [
        "# Creacion de un tabler inicialiado con numeros aleatorios delimitados entre un rango , para el ejemplo \"1-10\"\n",
        "\n",
        "tablr_a = np.random.randint(1,200,size=(4,4))\n",
        "print(tablr_a)\n"
      ],
      "metadata": {
        "id": "F2rJufE68qA5",
        "colab": {
          "base_uri": "https://localhost:8080/"
        },
        "outputId": "4505e8ff-4ee8-453f-b852-2c71d69c9516"
      },
      "execution_count": 43,
      "outputs": [
        {
          "output_type": "stream",
          "name": "stdout",
          "text": [
            "[[180  25 130 187]\n",
            " [ 27  25 171  82]\n",
            " [120 181 131 122]\n",
            " [ 99 141   4 185]]\n"
          ]
        }
      ]
    },
    {
      "cell_type": "code",
      "source": [
        "# prompt: creame una funcion que en base que le de un numero me sume todos los elementos de esa fila este es mi arreglo tablr_a\n",
        "\n",
        "import numpy as np\n",
        "def sum_row(arr, row_num):\n",
        "  if row_num >= arr.shape[0]:\n",
        "      raise IndexError(\"La columna no existe\")\n",
        "  return np.sum(arr[row_num, :])\n",
        "\n",
        "# Example usage\n",
        "\n",
        "fila = int(input(\"inngrese la fila:\"))\n",
        "row_sum = sum_row(tablr_a, fila)\n",
        "print(f\"La suma de valores de la fila {fila} es: {row_sum}\")\n"
      ],
      "metadata": {
        "id": "WoqW8S4J9hvJ",
        "colab": {
          "base_uri": "https://localhost:8080/"
        },
        "outputId": "6f253dc7-eb69-44ac-9380-05214a8eacb3"
      },
      "execution_count": 44,
      "outputs": [
        {
          "output_type": "stream",
          "name": "stdout",
          "text": [
            "inngrese la fila:2\n",
            "La suma de valores de la fila 2 es: 554\n"
          ]
        }
      ]
    },
    {
      "cell_type": "code",
      "source": [
        "# prompt: quiero que me sumen todos los valores de una fila no importa cuantas filas tenga en arreglo pero lso resultados tienen que ser suma de la fila , ... hasta las filas que tenga el array\n",
        "\n",
        "import numpy as np\n",
        "def sum_all_rows(arr):\n",
        "  row_sums = []\n",
        "  for row_num in range(arr.shape[0]):\n",
        "    row_sum = np.sum(arr[row_num, :])\n",
        "    row_sums.append(row_sum)\n",
        "  return row_sums\n",
        "\n",
        "# Example usage\n",
        "\n",
        "row_sums = sum_all_rows(tablr_a)\n",
        "for i, row_sum in enumerate(row_sums):\n",
        "  print(f\"La suma de valores de la fila {i+1} es: {row_sum}\")\n"
      ],
      "metadata": {
        "colab": {
          "base_uri": "https://localhost:8080/"
        },
        "id": "TeUh2UzpAZ9B",
        "outputId": "8509ee4d-bc4d-4faa-ad26-e7a970bcca0f"
      },
      "execution_count": 47,
      "outputs": [
        {
          "output_type": "stream",
          "name": "stdout",
          "text": [
            "La suma de valores de la fila 1 es: 522\n",
            "La suma de valores de la fila 2 es: 305\n",
            "La suma de valores de la fila 3 es: 554\n",
            "La suma de valores de la fila 4 es: 429\n"
          ]
        }
      ]
    },
    {
      "cell_type": "code",
      "source": [
        "# Redimensinamos el \"arreglo\" a una matriz de 3x2\n",
        "# Propiedad reshape permite redimensionar una matriz o un vector siempre y cuando sean multiplos del numero total de elentos de la matriz\n",
        "\n",
        "new_array= arreglo.reshape((3,2))\n",
        "print(new_array)"
      ],
      "metadata": {
        "colab": {
          "base_uri": "https://localhost:8080/"
        },
        "id": "XIKooeuYENbk",
        "outputId": "7eca2f00-01ac-4371-a636-4dd340534bc0"
      },
      "execution_count": 54,
      "outputs": [
        {
          "output_type": "stream",
          "name": "stdout",
          "text": [
            "[[1 2]\n",
            " [3 9]\n",
            " [8 7]]\n"
          ]
        }
      ]
    }
  ]
}